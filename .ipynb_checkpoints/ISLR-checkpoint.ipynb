{
 "cells": [
  {
   "cell_type": "code",
   "execution_count": 36,
   "id": "0fd3fc7c",
   "metadata": {},
   "outputs": [],
   "source": [
    "import numpy as np\n",
    "import pandas as pd\n",
    "import matplotlib.pyplot as plt\n",
    "import gradient_descent as gd\n",
    "import seaborn as sns\n",
    "import sklearn as sk"
   ]
  },
  {
   "cell_type": "code",
   "execution_count": 34,
   "id": "54797963-ad15-4480-8657-0c161e628be9",
   "metadata": {
    "tags": []
   },
   "outputs": [
    {
     "name": "stdout",
     "output_type": "stream",
     "text": [
      "Collecting gradient-descent\n",
      "  Downloading gradient_descent-0.0.3.tar.gz (7.1 kB)\n",
      "  Preparing metadata (setup.py) ... \u001b[?25ldone\n",
      "\u001b[?25hBuilding wheels for collected packages: gradient-descent\n",
      "  Building wheel for gradient-descent (setup.py) ... \u001b[?25ldone\n",
      "\u001b[?25h  Created wheel for gradient-descent: filename=gradient_descent-0.0.3-py3-none-any.whl size=14309 sha256=bcf0a135a391ecda708a158e70995b985adb072c6ea6f629f55d11c7f2e9c1cb\n",
      "  Stored in directory: /Users/prithwijitghosh/Library/Caches/pip/wheels/70/7e/84/c332324e63afe935443d36409b34396f39da81db61569f1ce1\n",
      "Successfully built gradient-descent\n",
      "Installing collected packages: gradient-descent\n",
      "Successfully installed gradient-descent-0.0.3\n"
     ]
    }
   ],
   "source": [
    "from gradient_descent import GradientDescent"
   ]
  },
  {
   "cell_type": "code",
   "execution_count": 3,
   "id": "9eba5850",
   "metadata": {
    "tags": []
   },
   "outputs": [],
   "source": [
    "import tensorflow as tf\n",
    "import keras "
   ]
  },
  {
   "cell_type": "code",
   "execution_count": 4,
   "id": "107f0469-ea02-4efd-bf90-f8b07e06a355",
   "metadata": {},
   "outputs": [],
   "source": [
    "from sklearn.linear_model import LogisticRegression as LG\n",
    "from sklearn.model_selection import train_test_split"
   ]
  },
  {
   "cell_type": "code",
   "execution_count": 13,
   "id": "9c74281e-23a3-4677-b428-014dbbd7d0bc",
   "metadata": {
    "tags": []
   },
   "outputs": [],
   "source": [
    "X1 = np.round(np.random.standard_normal([1000,5]),4)\n",
    "X2 = np.round(np.random.normal(loc = 2,scale = 5,size = [1000,5]),4)\n",
    "label = np.array([\"0\"]*X1.shape[0]+[\"1\"]*X2.shape[0]).reshape(-1,1)\n",
    "D = np.vstack([X1,X2])"
   ]
  },
  {
   "cell_type": "code",
   "execution_count": 14,
   "id": "5cbd5a69-05da-4a76-aee6-65dd021b2c1c",
   "metadata": {},
   "outputs": [
    {
     "data": {
      "text/html": [
       "<div>\n",
       "<style scoped>\n",
       "    .dataframe tbody tr th:only-of-type {\n",
       "        vertical-align: middle;\n",
       "    }\n",
       "\n",
       "    .dataframe tbody tr th {\n",
       "        vertical-align: top;\n",
       "    }\n",
       "\n",
       "    .dataframe thead th {\n",
       "        text-align: right;\n",
       "    }\n",
       "</style>\n",
       "<table border=\"1\" class=\"dataframe\">\n",
       "  <thead>\n",
       "    <tr style=\"text-align: right;\">\n",
       "      <th></th>\n",
       "      <th>0</th>\n",
       "      <th>1</th>\n",
       "      <th>2</th>\n",
       "      <th>3</th>\n",
       "      <th>4</th>\n",
       "    </tr>\n",
       "  </thead>\n",
       "  <tbody>\n",
       "    <tr>\n",
       "      <th>0</th>\n",
       "      <td>-0.2857</td>\n",
       "      <td>0.8230</td>\n",
       "      <td>-1.8486</td>\n",
       "      <td>0.1644</td>\n",
       "      <td>1.1658</td>\n",
       "    </tr>\n",
       "    <tr>\n",
       "      <th>1</th>\n",
       "      <td>0.9442</td>\n",
       "      <td>1.6845</td>\n",
       "      <td>1.3931</td>\n",
       "      <td>1.5954</td>\n",
       "      <td>-0.1701</td>\n",
       "    </tr>\n",
       "    <tr>\n",
       "      <th>2</th>\n",
       "      <td>0.5204</td>\n",
       "      <td>-1.9549</td>\n",
       "      <td>-1.5320</td>\n",
       "      <td>0.8144</td>\n",
       "      <td>-0.3988</td>\n",
       "    </tr>\n",
       "    <tr>\n",
       "      <th>3</th>\n",
       "      <td>0.0095</td>\n",
       "      <td>-0.8427</td>\n",
       "      <td>-0.6356</td>\n",
       "      <td>0.1904</td>\n",
       "      <td>-0.9487</td>\n",
       "    </tr>\n",
       "    <tr>\n",
       "      <th>4</th>\n",
       "      <td>-1.4969</td>\n",
       "      <td>0.2920</td>\n",
       "      <td>-0.4385</td>\n",
       "      <td>-0.5382</td>\n",
       "      <td>-0.8789</td>\n",
       "    </tr>\n",
       "  </tbody>\n",
       "</table>\n",
       "</div>"
      ],
      "text/plain": [
       "        0       1       2       3       4\n",
       "0 -0.2857  0.8230 -1.8486  0.1644  1.1658\n",
       "1  0.9442  1.6845  1.3931  1.5954 -0.1701\n",
       "2  0.5204 -1.9549 -1.5320  0.8144 -0.3988\n",
       "3  0.0095 -0.8427 -0.6356  0.1904 -0.9487\n",
       "4 -1.4969  0.2920 -0.4385 -0.5382 -0.8789"
      ]
     },
     "execution_count": 14,
     "metadata": {},
     "output_type": "execute_result"
    }
   ],
   "source": [
    "pd.DataFrame(D).head()"
   ]
  },
  {
   "cell_type": "code",
   "execution_count": 15,
   "id": "d03390b5-23d6-4e37-a20b-27ec120f2358",
   "metadata": {},
   "outputs": [],
   "source": [
    "train_X,test_X,train_y,test_y = train_test_split(D,label,test_size = 0.2)"
   ]
  },
  {
   "cell_type": "code",
   "execution_count": 18,
   "id": "0da9a30e-9f5e-4335-a7f7-314596c1985e",
   "metadata": {},
   "outputs": [
    {
     "name": "stdout",
     "output_type": "stream",
     "text": [
      " Train Set Accuracy: 0.824375 \n",
      " Test Set Accuracy: 0.8275\n"
     ]
    },
    {
     "name": "stderr",
     "output_type": "stream",
     "text": [
      "/Users/prithwijitghosh/anaconda3/lib/python3.11/site-packages/sklearn/utils/validation.py:1184: DataConversionWarning: A column-vector y was passed when a 1d array was expected. Please change the shape of y to (n_samples, ), for example using ravel().\n",
      "  y = column_or_1d(y, warn=True)\n"
     ]
    }
   ],
   "source": [
    "Logistic = LG()\n",
    "Logistic.fit(train_X,train_y)\n",
    "y_pred = Logistic.predict(test_X).reshape(-1,1)\n",
    "y_tr_pred = Logistic.predict(train_X).reshape(-1,1)\n",
    "print(\" Train Set Accuracy:\",np.mean(y_tr_pred==train_y),\"\\n\",\"Test Set Accuracy:\",np.mean(y_pred==test_y))"
   ]
  },
  {
   "cell_type": "code",
   "execution_count": 79,
   "id": "f95a7ce2-be98-439e-b0fa-dbd477f64bca",
   "metadata": {},
   "outputs": [
    {
     "data": {
      "text/plain": [
       "0.835"
      ]
     },
     "execution_count": 79,
     "metadata": {},
     "output_type": "execute_result"
    }
   ],
   "source": [
    "\n"
   ]
  },
  {
   "cell_type": "code",
   "execution_count": null,
   "id": "27837f40-5e6d-4cae-8a1a-07c45a6f177b",
   "metadata": {},
   "outputs": [],
   "source": [
    "### Use tan_inv instead of sigmoid\n",
    "## Objective function from mle\n",
    "## Use Newton-Raphson/Gradient Descent"
   ]
  },
  {
   "cell_type": "code",
   "execution_count": 19,
   "id": "69bffa26-9306-4893-8870-b35f0643a5eb",
   "metadata": {},
   "outputs": [],
   "source": [
    "def activation(x):\n",
    "    return (np.arctan(x) + np.pi/2)/np.pi"
   ]
  },
  {
   "cell_type": "code",
   "execution_count": 24,
   "id": "4a2fe1d8-95f0-4cb0-ac11-bcc4445391b3",
   "metadata": {
    "tags": []
   },
   "outputs": [
    {
     "data": {
      "text/plain": [
       "0.0015915361682059194"
      ]
     },
     "execution_count": 24,
     "metadata": {},
     "output_type": "execute_result"
    }
   ],
   "source": [
    "activation()"
   ]
  },
  {
   "cell_type": "code",
   "execution_count": 30,
   "id": "0f60a11c-f488-4846-b098-597550a01a16",
   "metadata": {},
   "outputs": [],
   "source": [
    "def loss_function(x,y,h):\n",
    "    return -(np.array(y)*np.log(h(np.array(x)))+(1-np.array(y))*np.log(1 - h(np.array(x))))"
   ]
  },
  {
   "cell_type": "code",
   "execution_count": 37,
   "id": "299f01ae-8531-4479-8995-688d4593085a",
   "metadata": {
    "tags": []
   },
   "outputs": [
    {
     "ename": "SyntaxError",
     "evalue": "incomplete input (3625330755.py, line 2)",
     "output_type": "error",
     "traceback": [
      "\u001b[0;36m  Cell \u001b[0;32mIn[37], line 2\u001b[0;36m\u001b[0m\n\u001b[0;31m    \u001b[0m\n\u001b[0m    ^\u001b[0m\n\u001b[0;31mSyntaxError\u001b[0m\u001b[0;31m:\u001b[0m incomplete input\n"
     ]
    }
   ],
   "source": [
    "def gradient(x):\n",
    "    return 1/((1+x**2)*np.pi)"
   ]
  },
  {
   "cell_type": "code",
   "execution_count": null,
   "id": "6aead52d-3815-4317-9a95-cc42059763a9",
   "metadata": {},
   "outputs": [],
   "source": [
    "        "
   ]
  },
  {
   "cell_type": "code",
   "execution_count": null,
   "id": "19198420-b594-400f-b1d9-5f9f239adba8",
   "metadata": {},
   "outputs": [],
   "source": []
  },
  {
   "cell_type": "code",
   "execution_count": null,
   "id": "c21d53be-c30d-4305-a7e3-dae508f7f784",
   "metadata": {},
   "outputs": [],
   "source": []
  },
  {
   "cell_type": "code",
   "execution_count": null,
   "id": "8c248b4d-e629-43d9-bc0a-f1ff0b0930c6",
   "metadata": {},
   "outputs": [],
   "source": []
  },
  {
   "cell_type": "code",
   "execution_count": null,
   "id": "043c3149-23bc-4976-8e62-c5fef10a2614",
   "metadata": {},
   "outputs": [],
   "source": []
  },
  {
   "cell_type": "code",
   "execution_count": 31,
   "id": "675e8e66-572e-43e6-91fd-c64de3c1e71a",
   "metadata": {},
   "outputs": [
    {
     "data": {
      "text/plain": [
       "0.1596801598555846"
      ]
     },
     "execution_count": 31,
     "metadata": {},
     "output_type": "execute_result"
    }
   ],
   "source": [
    "loss_function(2,1,activation)"
   ]
  },
  {
   "cell_type": "markdown",
   "id": "1f7485b0-fae6-4840-9ee4-c120916b3c83",
   "metadata": {},
   "source": [
    "## Linear Regression"
   ]
  },
  {
   "cell_type": "code",
   "execution_count": 2,
   "id": "3dcd15fa-9225-4309-b367-db058df3c94c",
   "metadata": {
    "tags": []
   },
   "outputs": [],
   "source": [
    "import statsmodels.api as sm"
   ]
  },
  {
   "cell_type": "code",
   "execution_count": 32,
   "id": "7f0d5ed0-9122-4cb4-9663-88ab3b58149e",
   "metadata": {},
   "outputs": [],
   "source": [
    "t1 = np.array([2,3,4,5])\n",
    "t2 = np.array([3,6,9,12])"
   ]
  },
  {
   "cell_type": "code",
   "execution_count": 33,
   "id": "60701cd8-f465-41fa-b943-b39010cbfc9c",
   "metadata": {
    "tags": []
   },
   "outputs": [
    {
     "data": {
      "text/plain": [
       "120"
      ]
     },
     "execution_count": 33,
     "metadata": {},
     "output_type": "execute_result"
    }
   ],
   "source": [
    "t1@t2"
   ]
  },
  {
   "cell_type": "code",
   "execution_count": 41,
   "id": "8c385d3f-8d95-4387-bb0c-ddc1516746c2",
   "metadata": {
    "tags": []
   },
   "outputs": [
    {
     "data": {
      "text/plain": [
       "909.6593815749626"
      ]
     },
     "execution_count": 41,
     "metadata": {},
     "output_type": "execute_result"
    }
   ],
   "source": [
    "np.sum(np.random.standard_cauchy([10,5])@np.array([1,2,2,3,4]))"
   ]
  },
  {
   "cell_type": "code",
   "execution_count": null,
   "id": "b7dab0e3-c729-44df-a72d-a2a9a92c1ba3",
   "metadata": {},
   "outputs": [],
   "source": []
  },
  {
   "cell_type": "code",
   "execution_count": null,
   "id": "02f4d39f-03d4-4cb3-a565-b542c1213c3f",
   "metadata": {},
   "outputs": [],
   "source": []
  },
  {
   "cell_type": "code",
   "execution_count": null,
   "id": "3b7b18eb-f8a4-476b-9484-535f0c2275dc",
   "metadata": {},
   "outputs": [],
   "source": []
  },
  {
   "cell_type": "code",
   "execution_count": null,
   "id": "9c744afa-5b1d-4239-abf1-32306ef155ce",
   "metadata": {},
   "outputs": [],
   "source": []
  }
 ],
 "metadata": {
  "kernelspec": {
   "display_name": "Python 3 (ipykernel)",
   "language": "python",
   "name": "python3"
  },
  "language_info": {
   "codemirror_mode": {
    "name": "ipython",
    "version": 3
   },
   "file_extension": ".py",
   "mimetype": "text/x-python",
   "name": "python",
   "nbconvert_exporter": "python",
   "pygments_lexer": "ipython3",
   "version": "3.11.5"
  }
 },
 "nbformat": 4,
 "nbformat_minor": 5
}
